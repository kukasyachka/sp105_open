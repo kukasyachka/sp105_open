{
 "cells": [
  {
   "cell_type": "code",
   "execution_count": null,
   "metadata": {},
   "outputs": [],
   "source": [
    "# fname = \"your_favourite_trial.csv\"\n",
    "# reward = dict(center_x= , center_y= , radius= )\n",
    "fname = \"flytrax20210216_171003.csv\"\n",
    "reward = dict(center_x=430, center_y=380, radius=50)"
   ]
  },
  {
   "cell_type": "code",
   "execution_count": null,
   "metadata": {},
   "outputs": [],
   "source": [
    "import matplotlib.pyplot as plt"
   ]
  },
  {
   "cell_type": "code",
   "execution_count": null,
   "metadata": {},
   "outputs": [],
   "source": [
    "import pandas as pd\n",
    "from read_detection_csv import parse_obj_dection_yaml, get_df"
   ]
  },
  {
   "cell_type": "code",
   "execution_count": null,
   "metadata": {},
   "outputs": [],
   "source": [
    "plt.style.use('seaborn')"
   ]
  },
  {
   "cell_type": "markdown",
   "metadata": {},
   "source": [
    "## Loading data"
   ]
  },
  {
   "cell_type": "code",
   "execution_count": null,
   "metadata": {},
   "outputs": [],
   "source": [
    "df = get_df(fname)\n",
    "yaml_data = parse_obj_dection_yaml(fname)\n",
    "df[\"t\"] = (df.time_microseconds - df.time_microseconds.iloc[0])*1e-6 # time from the start of the trial in seconds"
   ]
  },
  {
   "cell_type": "code",
   "execution_count": null,
   "metadata": {},
   "outputs": [],
   "source": [
    "df.head()"
   ]
  },
  {
   "cell_type": "code",
   "execution_count": null,
   "metadata": {},
   "outputs": [],
   "source": [
    "yaml_data"
   ]
  },
  {
   "cell_type": "code",
   "execution_count": null,
   "metadata": {},
   "outputs": [],
   "source": [
    "f, axs = plt.subplots(2,1, sharex=True)\n",
    "axs[0].plot(df.t, df.x_px, ',', label='x')\n",
    "axs[0].plot(df.t, df.y_px, ',', label='y')\n",
    "axs[1].plot(df.t, df.led_1)\n",
    "axs[0].set_title(\"Fly coordinates, px\")\n",
    "axs[1].set_title(\"Red LED intensity, a.u.\")"
   ]
  },
  {
   "cell_type": "markdown",
   "metadata": {},
   "source": [
    "## Plotting trajectory"
   ]
  },
  {
   "cell_type": "code",
   "execution_count": null,
   "metadata": {},
   "outputs": [],
   "source": [
    "plt.plot(df.x_px, df.y_px, ',')\n",
    "plt.plot(df[df.led_1>0].x_px, df[df.led_1>0].y_px, ',', color=\"red\")\n",
    "plt.axis('equal')"
   ]
  },
  {
   "cell_type": "code",
   "execution_count": null,
   "metadata": {},
   "outputs": [],
   "source": [
    "from arena_minimal import create_arena_from_yaml_data, plot_trajectory"
   ]
  },
  {
   "cell_type": "code",
   "execution_count": null,
   "metadata": {},
   "outputs": [],
   "source": [
    "arena = create_arena_from_yaml_data(yaml_data)"
   ]
  },
  {
   "cell_type": "code",
   "execution_count": null,
   "metadata": {},
   "outputs": [],
   "source": [
    "arena.add_circular_location(\"reward\", reward['center_x'], reward['center_y'], reward['radius'], color='red')"
   ]
  },
  {
   "cell_type": "code",
   "execution_count": null,
   "metadata": {},
   "outputs": [],
   "source": [
    "f, ax = plt.subplots(figsize=(8,8))\n",
    "clrs=plot_trajectory(df.x_px, df.y_px, ax, colors=df.t, cmap='viridis')\n",
    "arena.plot(ax)\n",
    "f.colorbar(clrs, ax=ax)"
   ]
  },
  {
   "cell_type": "markdown",
   "metadata": {},
   "source": [
    "## Labeling the stages"
   ]
  },
  {
   "cell_type": "code",
   "execution_count": null,
   "metadata": {},
   "outputs": [],
   "source": [
    "#df[(df.timestamp>=stim_start_ts) & \n",
    "#                     (df.timestamp<=stim_start_ts+duration_stim)]\n",
    "# create a new column \"stage\"\n",
    "df[\"stage\"] = \"n/a\""
   ]
  },
  {
   "cell_type": "code",
   "execution_count": null,
   "metadata": {},
   "outputs": [],
   "source": [
    "led_first_on_ts = df[df.led_1>0].iloc[0].timestamp\n",
    "led_last_on_ts = df[df.led_1>0].iloc[-1].timestamp"
   ]
  },
  {
   "cell_type": "code",
   "execution_count": null,
   "metadata": {},
   "outputs": [],
   "source": [
    "baseline_duration = 300\n",
    "stim_duration = 300\n",
    "post_max_duration = 300\n",
    "\n",
    "df.loc[df.t<=baseline_duration,\"stage\"] = \"baseline\"\n",
    "stim_end_ts = led_first_on_ts + stim_duration\n",
    "post_start_ts = max(stim_end_ts, led_last_on_ts)\n",
    "df.loc[(df.timestamp>=led_first_on_ts) & (df.timestamp<=stim_end_ts), \"stage\"] = \"stimulus\"\n",
    "df.loc[(df.timestamp>post_start_ts) & (df.timestamp<= post_start_ts + post_max_duration),\"stage\"] = \"post\"\n"
   ]
  },
  {
   "cell_type": "code",
   "execution_count": null,
   "metadata": {},
   "outputs": [],
   "source": [
    "for stage,data in df.groupby(\"stage\"):\n",
    "    plt.plot(data.t, data.x_px, '.', label=stage)\n",
    "plt.legend()"
   ]
  },
  {
   "cell_type": "markdown",
   "metadata": {},
   "source": [
    "### Exercise: plot trajectories of your recordings"
   ]
  },
  {
   "cell_type": "code",
   "execution_count": null,
   "metadata": {},
   "outputs": [],
   "source": [
    "def plot_flytrax(flytrax_filename):\n",
    "    # your code here (as above)\n",
    "    pass\n"
   ]
  },
  {
   "cell_type": "code",
   "execution_count": null,
   "metadata": {},
   "outputs": [],
   "source": [
    "all_trials = [] # list of flytrax*.csv files\n",
    "for fname in all_trials:\n",
    "    plot_flytrax(fname)"
   ]
  },
  {
   "cell_type": "markdown",
   "metadata": {},
   "source": [
    "Bonus 1: you can plot them all on 1 figure, using ```plt.subplots```. It can be a nice summary, e.g. a grid with trials of different genotypes on different rows\n",
    "\n",
    "Bonus 2: you can plot the trajectory stage by stage for visual comparison"
   ]
  },
  {
   "cell_type": "code",
   "execution_count": null,
   "metadata": {},
   "outputs": [],
   "source": []
  },
  {
   "cell_type": "code",
   "execution_count": null,
   "metadata": {},
   "outputs": [],
   "source": []
  },
  {
   "cell_type": "markdown",
   "metadata": {},
   "source": [
    "## Fraction of time in RZ"
   ]
  },
  {
   "cell_type": "markdown",
   "metadata": {},
   "source": [
    "We will calculate fraction of time the flies spent in the reward zone (RZ), similar to what the plot_csv.py script did. Additionaly, we will caclulate fraction of time in RZ before stimulation (baseline period), then we can also have a within-fly comparison"
   ]
  },
  {
   "cell_type": "code",
   "execution_count": null,
   "metadata": {},
   "outputs": [],
   "source": [
    "def fraction_led_on(data, led_channel='led_1'):\n",
    "    return data[data[led_channel]>0][led_channel].count()/data[led_channel].count()"
   ]
  },
  {
   "cell_type": "code",
   "execution_count": null,
   "metadata": {},
   "outputs": [],
   "source": [
    "df_stim = df.loc[df.stage=='stimulus']"
   ]
  },
  {
   "cell_type": "code",
   "execution_count": null,
   "metadata": {},
   "outputs": [],
   "source": [
    "fraction_led_on(df_stim)"
   ]
  },
  {
   "cell_type": "code",
   "execution_count": null,
   "metadata": {},
   "outputs": [],
   "source": [
    "# mark all trajectory points in/out rz"
   ]
  },
  {
   "cell_type": "code",
   "execution_count": null,
   "metadata": {},
   "outputs": [],
   "source": [
    "df[\"in_rz\"] = (df.x_px - reward['center_x'])**2 + \\\n",
    "              (df.y_px - reward['center_y'])**2 < reward[\"radius\"]**2"
   ]
  },
  {
   "cell_type": "code",
   "execution_count": null,
   "metadata": {},
   "outputs": [],
   "source": [
    "def fraction_true(data, column_name=\"in_rz\"):\n",
    "    assert data[column_name].dtype == bool\n",
    "    return data[column_name].sum()/data[column_name].count()"
   ]
  },
  {
   "cell_type": "code",
   "execution_count": null,
   "metadata": {},
   "outputs": [],
   "source": [
    "df_stim = df.loc[df.stage=='stimulus']\n",
    "fraction_true(df_stim, \"in_rz\")"
   ]
  },
  {
   "cell_type": "code",
   "execution_count": null,
   "metadata": {},
   "outputs": [],
   "source": [
    "fraction_led_on(df[df.stage=='stimulus'])"
   ]
  },
  {
   "cell_type": "markdown",
   "metadata": {},
   "source": [
    "Why are these values a bit different? "
   ]
  },
  {
   "cell_type": "markdown",
   "metadata": {},
   "source": [
    "Exercise: calculate fraction of time spent in rz during the baseline stage (first 5 minutes of the recording) and in post-stimulus stage (5 minutes after the stimulus and after last time led was on)"
   ]
  },
  {
   "cell_type": "markdown",
   "metadata": {},
   "source": [
    "Exercise: define a \"control\" area in the arena (mirror-symmetric to RZ for example) and calculate fractions of time the fly spent there during different stages of experiment and compare to the RZ values"
   ]
  },
  {
   "cell_type": "markdown",
   "metadata": {},
   "source": [
    "# Number of revisits"
   ]
  },
  {
   "cell_type": "code",
   "execution_count": null,
   "metadata": {},
   "outputs": [],
   "source": [
    "# getting the post period\n",
    "post = df.loc[df.stage=='post']"
   ]
  },
  {
   "cell_type": "code",
   "execution_count": null,
   "metadata": {},
   "outputs": [],
   "source": [
    "print(post.t.min(), post.t.max(),post.t.max()-post.t.min())"
   ]
  },
  {
   "cell_type": "code",
   "execution_count": null,
   "metadata": {},
   "outputs": [],
   "source": [
    "f, ax = plt.subplots()\n",
    "clrs=plot_trajectory(post.x_px, post.y_px, ax, colors=post.t, cmap=\"viridis\")\n",
    "plt.colorbar(clrs,ax=ax)\n",
    "ax.plot(post[post.led_1>0].x_px, post[post.led_1>0].y_px, '.', color=\"red\")\n",
    "arena.plot(ax)"
   ]
  },
  {
   "cell_type": "code",
   "execution_count": null,
   "metadata": {},
   "outputs": [],
   "source": [
    "f, ax = plt.subplots(figsize=(8,8))\n",
    "plot_trajectory(post.x_px, post.y_px, ax,colors=post.in_rz, cmap=\"jet\")\n",
    "arena.plot(ax)\n",
    "# zoom in to reward zone and around it\n",
    "plt.xlim(300, 600)\n",
    "plt.ylim(200, 500)"
   ]
  },
  {
   "cell_type": "code",
   "execution_count": null,
   "metadata": {},
   "outputs": [],
   "source": [
    "df['traj_segment'] = (df['in_rz'] != df['in_rz'].shift(1)).cumsum()"
   ]
  },
  {
   "cell_type": "code",
   "execution_count": null,
   "metadata": {},
   "outputs": [],
   "source": [
    "post = df.loc[df.stage=='post']"
   ]
  },
  {
   "cell_type": "code",
   "execution_count": null,
   "metadata": {},
   "outputs": [],
   "source": [
    "f, ax = plt.subplots(figsize=(12,12))\n",
    "plot_trajectory(post.x_px, post.y_px, ax,colors=post.traj_segment, markersize=15, cmap=\"tab20\")\n",
    "arena.plot(ax)\n",
    "# plt.xlim(300, 600)\n",
    "# plt.ylim(200, 500)"
   ]
  },
  {
   "cell_type": "code",
   "execution_count": null,
   "metadata": {},
   "outputs": [],
   "source": [
    "post.traj_segment.nunique()"
   ]
  },
  {
   "cell_type": "code",
   "execution_count": null,
   "metadata": {},
   "outputs": [],
   "source": [
    "n_revisits = int(post.traj_segment.nunique()/2)"
   ]
  },
  {
   "cell_type": "code",
   "execution_count": null,
   "metadata": {},
   "outputs": [],
   "source": [
    "n_revisits"
   ]
  },
  {
   "cell_type": "markdown",
   "metadata": {},
   "source": [
    "Exercise: calculate number of revisits during baseline and stimulus stages"
   ]
  },
  {
   "cell_type": "code",
   "execution_count": null,
   "metadata": {},
   "outputs": [],
   "source": []
  },
  {
   "cell_type": "markdown",
   "metadata": {},
   "source": [
    "Bonus: revisit durations etc"
   ]
  },
  {
   "cell_type": "code",
   "execution_count": null,
   "metadata": {},
   "outputs": [],
   "source": [
    "segments_stats = df.groupby('traj_segment').agg({'in_rz':['first','count'], \n",
    "                                                 't': ['min', 'max'], \n",
    "                                                 \"frame\": ['min', 'max'], \n",
    "                                                 \"stage\":['first','last']})"
   ]
  },
  {
   "cell_type": "code",
   "execution_count": null,
   "metadata": {},
   "outputs": [],
   "source": [
    "segments_stats.columns = ['_'.join(col) for col in segments_stats.columns]"
   ]
  },
  {
   "cell_type": "code",
   "execution_count": null,
   "metadata": {},
   "outputs": [],
   "source": [
    "segments_stats"
   ]
  },
  {
   "cell_type": "code",
   "execution_count": null,
   "metadata": {},
   "outputs": [],
   "source": [
    "revisits_post = segments_stats.loc[(segments_stats.stage_first==\"post\")& segments_stats.in_rz_first]"
   ]
  },
  {
   "cell_type": "code",
   "execution_count": null,
   "metadata": {},
   "outputs": [],
   "source": [
    "segments_stats[\"duration\"] = segments_stats.t_max - segments_stats.t_min"
   ]
  },
  {
   "cell_type": "code",
   "execution_count": null,
   "metadata": {},
   "outputs": [],
   "source": [
    "revisits_post"
   ]
  },
  {
   "cell_type": "code",
   "execution_count": null,
   "metadata": {},
   "outputs": [],
   "source": []
  }
 ],
 "metadata": {
  "kernelspec": {
   "display_name": "Python 3",
   "language": "python",
   "name": "python3"
  },
  "language_info": {
   "codemirror_mode": {
    "name": "ipython",
    "version": 3
   },
   "file_extension": ".py",
   "mimetype": "text/x-python",
   "name": "python",
   "nbconvert_exporter": "python",
   "pygments_lexer": "ipython3",
   "version": "3.7.3"
  }
 },
 "nbformat": 4,
 "nbformat_minor": 4
}
