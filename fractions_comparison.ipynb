{
 "cells": [
  {
   "cell_type": "code",
   "execution_count": 1,
   "metadata": {},
   "outputs": [],
   "source": [
    "import matplotlib.pyplot as plt\n",
    "import pandas as pd\n",
    "import seaborn as sns"
   ]
  },
  {
   "cell_type": "code",
   "execution_count": 2,
   "metadata": {},
   "outputs": [],
   "source": [
    "data=pd.read_table(\"innate_attraction.tsv\")"
   ]
  },
  {
   "cell_type": "code",
   "execution_count": 3,
   "metadata": {},
   "outputs": [
    {
     "data": {
      "text/plain": [
       "Index(['Timestamp', 'Experimenter name', 'Box number', 'Color code',\n",
       "       'Experiment Time', 'Fraction LED On in 5 minute stimulus period',\n",
       "       'Genotype'],\n",
       "      dtype='object')"
      ]
     },
     "execution_count": 3,
     "metadata": {},
     "output_type": "execute_result"
    }
   ],
   "source": [
    "data.columns"
   ]
  },
  {
   "cell_type": "code",
   "execution_count": 4,
   "metadata": {},
   "outputs": [],
   "source": [
    "columns_mapping = {'Timestamp':'timestamp',\n",
    "                   'Experimenter name':'experimenter', \n",
    "                   'Box number':'box', \n",
    "                   'Color code':'color_code',\n",
    "                   'Experiment Time':'experiment_time', \n",
    "                   'Fraction LED On in 5 minute stimulus period':'fraction_led_on_5min_stim',\n",
    "                   'Genotype':'genotype'}"
   ]
  },
  {
   "cell_type": "code",
   "execution_count": 5,
   "metadata": {},
   "outputs": [],
   "source": [
    "data = data.rename(columns=columns_mapping)"
   ]
  },
  {
   "cell_type": "code",
   "execution_count": 6,
   "metadata": {},
   "outputs": [
    {
     "data": {
      "text/html": [
       "<div>\n",
       "<style scoped>\n",
       "    .dataframe tbody tr th:only-of-type {\n",
       "        vertical-align: middle;\n",
       "    }\n",
       "\n",
       "    .dataframe tbody tr th {\n",
       "        vertical-align: top;\n",
       "    }\n",
       "\n",
       "    .dataframe thead th {\n",
       "        text-align: right;\n",
       "    }\n",
       "</style>\n",
       "<table border=\"1\" class=\"dataframe\">\n",
       "  <thead>\n",
       "    <tr style=\"text-align: right;\">\n",
       "      <th></th>\n",
       "      <th>timestamp</th>\n",
       "      <th>experimenter</th>\n",
       "      <th>box</th>\n",
       "      <th>color_code</th>\n",
       "      <th>experiment_time</th>\n",
       "      <th>fraction_led_on_5min_stim</th>\n",
       "      <th>genotype</th>\n",
       "    </tr>\n",
       "  </thead>\n",
       "  <tbody>\n",
       "    <tr>\n",
       "      <th>0</th>\n",
       "      <td>4/20/2021 16:16:34</td>\n",
       "      <td>Samuel Woehrle</td>\n",
       "      <td>5</td>\n",
       "      <td>Green</td>\n",
       "      <td>3:21:00 PM</td>\n",
       "      <td>0.068</td>\n",
       "      <td>CS</td>\n",
       "    </tr>\n",
       "    <tr>\n",
       "      <th>1</th>\n",
       "      <td>4/20/2021 16:34:47</td>\n",
       "      <td>Renée Cuntz</td>\n",
       "      <td>8</td>\n",
       "      <td>Red</td>\n",
       "      <td>2:38:00 PM</td>\n",
       "      <td>0.682</td>\n",
       "      <td>Gr43&gt;Chrimson</td>\n",
       "    </tr>\n",
       "    <tr>\n",
       "      <th>2</th>\n",
       "      <td>4/20/2021 16:36:32</td>\n",
       "      <td>Renée Cuntz</td>\n",
       "      <td>8</td>\n",
       "      <td>Red</td>\n",
       "      <td>3:01:00 PM</td>\n",
       "      <td>0.648</td>\n",
       "      <td>Gr43&gt;Chrimson</td>\n",
       "    </tr>\n",
       "    <tr>\n",
       "      <th>3</th>\n",
       "      <td>4/20/2021 16:37:27</td>\n",
       "      <td>Natalie</td>\n",
       "      <td>4</td>\n",
       "      <td>Red</td>\n",
       "      <td>1:13:00 PM</td>\n",
       "      <td>0.527</td>\n",
       "      <td>Gr43&gt;Chrimson</td>\n",
       "    </tr>\n",
       "    <tr>\n",
       "      <th>4</th>\n",
       "      <td>4/20/2021 16:37:30</td>\n",
       "      <td>Renée Cuntz</td>\n",
       "      <td>8</td>\n",
       "      <td>Red</td>\n",
       "      <td>3:29:00 PM</td>\n",
       "      <td>1.000</td>\n",
       "      <td>Gr43&gt;Chrimson</td>\n",
       "    </tr>\n",
       "    <tr>\n",
       "      <th>...</th>\n",
       "      <td>...</td>\n",
       "      <td>...</td>\n",
       "      <td>...</td>\n",
       "      <td>...</td>\n",
       "      <td>...</td>\n",
       "      <td>...</td>\n",
       "      <td>...</td>\n",
       "    </tr>\n",
       "    <tr>\n",
       "      <th>69</th>\n",
       "      <td>4/21/2021 17:01:28</td>\n",
       "      <td>Jana</td>\n",
       "      <td>6</td>\n",
       "      <td>Red</td>\n",
       "      <td>2:22:00 PM</td>\n",
       "      <td>0.655</td>\n",
       "      <td>Gr43&gt;Chrimson</td>\n",
       "    </tr>\n",
       "    <tr>\n",
       "      <th>70</th>\n",
       "      <td>4/21/2021 17:02:04</td>\n",
       "      <td>Jana</td>\n",
       "      <td>6</td>\n",
       "      <td>Red</td>\n",
       "      <td>2:48:00 PM</td>\n",
       "      <td>0.200</td>\n",
       "      <td>Gr43&gt;Chrimson</td>\n",
       "    </tr>\n",
       "    <tr>\n",
       "      <th>71</th>\n",
       "      <td>4/21/2021 17:02:55</td>\n",
       "      <td>Jana</td>\n",
       "      <td>6</td>\n",
       "      <td>Blue</td>\n",
       "      <td>3:20:00 PM</td>\n",
       "      <td>0.067</td>\n",
       "      <td>CS</td>\n",
       "    </tr>\n",
       "    <tr>\n",
       "      <th>72</th>\n",
       "      <td>4/21/2021 17:03:36</td>\n",
       "      <td>Jana</td>\n",
       "      <td>6</td>\n",
       "      <td>Red</td>\n",
       "      <td>3:52:00 PM</td>\n",
       "      <td>0.817</td>\n",
       "      <td>Gr43&gt;Chrimson</td>\n",
       "    </tr>\n",
       "    <tr>\n",
       "      <th>73</th>\n",
       "      <td>4/21/2021 17:04:19</td>\n",
       "      <td>Jana</td>\n",
       "      <td>6</td>\n",
       "      <td>Red</td>\n",
       "      <td>4:30:00 PM</td>\n",
       "      <td>0.123</td>\n",
       "      <td>Gr43&gt;Chrimson</td>\n",
       "    </tr>\n",
       "  </tbody>\n",
       "</table>\n",
       "<p>74 rows × 7 columns</p>\n",
       "</div>"
      ],
      "text/plain": [
       "             timestamp    experimenter  box color_code experiment_time  \\\n",
       "0   4/20/2021 16:16:34  Samuel Woehrle    5      Green      3:21:00 PM   \n",
       "1   4/20/2021 16:34:47     Renée Cuntz    8        Red      2:38:00 PM   \n",
       "2   4/20/2021 16:36:32     Renée Cuntz    8        Red      3:01:00 PM   \n",
       "3   4/20/2021 16:37:27         Natalie    4        Red      1:13:00 PM   \n",
       "4   4/20/2021 16:37:30     Renée Cuntz    8        Red      3:29:00 PM   \n",
       "..                 ...             ...  ...        ...             ...   \n",
       "69  4/21/2021 17:01:28            Jana    6        Red      2:22:00 PM   \n",
       "70  4/21/2021 17:02:04            Jana    6        Red      2:48:00 PM   \n",
       "71  4/21/2021 17:02:55            Jana    6       Blue      3:20:00 PM   \n",
       "72  4/21/2021 17:03:36            Jana    6        Red      3:52:00 PM   \n",
       "73  4/21/2021 17:04:19            Jana    6        Red      4:30:00 PM   \n",
       "\n",
       "    fraction_led_on_5min_stim       genotype  \n",
       "0                       0.068             CS  \n",
       "1                       0.682  Gr43>Chrimson  \n",
       "2                       0.648  Gr43>Chrimson  \n",
       "3                       0.527  Gr43>Chrimson  \n",
       "4                       1.000  Gr43>Chrimson  \n",
       "..                        ...            ...  \n",
       "69                      0.655  Gr43>Chrimson  \n",
       "70                      0.200  Gr43>Chrimson  \n",
       "71                      0.067             CS  \n",
       "72                      0.817  Gr43>Chrimson  \n",
       "73                      0.123  Gr43>Chrimson  \n",
       "\n",
       "[74 rows x 7 columns]"
      ]
     },
     "execution_count": 6,
     "metadata": {},
     "output_type": "execute_result"
    }
   ],
   "source": [
    "data"
   ]
  },
  {
   "cell_type": "code",
   "execution_count": 7,
   "metadata": {},
   "outputs": [
    {
     "data": {
      "text/plain": [
       "<matplotlib.legend.Legend at 0x1a254ae748>"
      ]
     },
     "execution_count": 7,
     "metadata": {},
     "output_type": "execute_result"
    },
    {
     "data": {
      "image/png": "[encoded data removed]",
      "text/plain": [
       "<Figure size 432x288 with 1 Axes>"
      ]
     },
     "metadata": {
      "needs_background": "light"
     },
     "output_type": "display_data"
    }
   ],
   "source": [
    "sns.swarmplot(x=\"genotype\",y=\"fraction_led_on_5min_stim\", data=data, hue='experimenter')\n",
    "plt.legend(bbox_to_anchor=(1.05, 1), loc=2, borderaxespad=0.)\n"
   ]
  },
  {
   "cell_type": "code",
   "execution_count": 8,
   "metadata": {},
   "outputs": [
    {
     "data": {
      "text/plain": [
       "<matplotlib.axes._subplots.AxesSubplot at 0x1a25c3f128>"
      ]
     },
     "execution_count": 8,
     "metadata": {},
     "output_type": "execute_result"
    },
    {
     "data": {
      "image/png": "[encoded data removed]",
      "text/plain": [
       "<Figure size 432x288 with 1 Axes>"
      ]
     },
     "metadata": {
      "needs_background": "light"
     },
     "output_type": "display_data"
    }
   ],
   "source": [
    "sns.barplot(x=\"genotype\",y=\"fraction_led_on_5min_stim\", data=data)"
   ]
  },
  {
   "cell_type": "code",
   "execution_count": 9,
   "metadata": {},
   "outputs": [],
   "source": [
    "from scipy.stats import mannwhitneyu"
   ]
  },
  {
   "cell_type": "code",
   "execution_count": 10,
   "metadata": {},
   "outputs": [],
   "source": [
    "mannwhitneyu?"
   ]
  },
  {
   "cell_type": "code",
   "execution_count": 11,
   "metadata": {},
   "outputs": [
    {
     "data": {
      "text/plain": [
       "0     0.068\n",
       "5     0.198\n",
       "6     0.040\n",
       "11    0.047\n",
       "12    0.024\n",
       "13    0.083\n",
       "16    0.060\n",
       "25    0.304\n",
       "28    0.008\n",
       "29    0.072\n",
       "32    0.135\n",
       "33    0.815\n",
       "34    0.011\n",
       "35    0.085\n",
       "36    0.088\n",
       "37    0.048\n",
       "38    0.310\n",
       "39    0.017\n",
       "40    0.251\n",
       "41    0.019\n",
       "43    0.115\n",
       "46    0.064\n",
       "49    0.648\n",
       "52    0.003\n",
       "55    0.244\n",
       "61    0.239\n",
       "62    0.349\n",
       "66    0.691\n",
       "68    0.120\n",
       "71    0.067\n",
       "Name: fraction_led_on_5min_stim, dtype: float64"
      ]
     },
     "execution_count": 11,
     "metadata": {},
     "output_type": "execute_result"
    }
   ],
   "source": [
    "data[data.genotype==\"CS\"].fraction_led_on_5min_stim"
   ]
  },
  {
   "cell_type": "code",
   "execution_count": null,
   "metadata": {},
   "outputs": [],
   "source": [
    "mannwhitneyu(data[data.genotype==\"CS\"].fraction_led_on_5min_stim, \n",
    "             data[data.genotype!=\"CS\"].fraction_led_on_5min_stim,alternative='less')"
   ]
  },
  {
   "cell_type": "code",
   "execution_count": null,
   "metadata": {},
   "outputs": [],
   "source": []
  }
 ],
 "metadata": {
  "kernelspec": {
   "display_name": "Python 3",
   "language": "python",
   "name": "python3"
  },
  "language_info": {
   "codemirror_mode": {
    "name": "ipython",
    "version": 3
   },
   "file_extension": ".py",
   "mimetype": "text/x-python",
   "name": "python",
   "nbconvert_exporter": "python",
   "pygments_lexer": "ipython3",
   "version": "3.7.3"
  }
 },
 "nbformat": 4,
 "nbformat_minor": 2
}
